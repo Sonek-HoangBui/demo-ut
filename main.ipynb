{
 "cells": [
  {
   "cell_type": "code",
   "execution_count": 1,
   "metadata": {},
   "outputs": [
    {
     "name": "stdout",
     "output_type": "stream",
     "text": [
      "[sudo] password for minhnv: \n",
      "cp: '/usr/lib/chromium-browser/chromedriver' and '/usr/bin/chromedriver' are the same file\n",
      "Requirement already satisfied: selenium in /home/minhnv/.local/lib/python3.8/site-packages (4.1.0)\n",
      "Requirement already satisfied: urllib3[secure]~=1.26 in /home/minhnv/.local/lib/python3.8/site-packages (from selenium) (1.26.7)\n",
      "Requirement already satisfied: trio~=0.17 in /home/minhnv/.local/lib/python3.8/site-packages (from selenium) (0.19.0)\n",
      "Requirement already satisfied: trio-websocket~=0.9 in /home/minhnv/.local/lib/python3.8/site-packages (from selenium) (0.9.2)\n",
      "Requirement already satisfied: idna>=2.0.0; extra == \"secure\" in /usr/lib/python3/dist-packages (from urllib3[secure]~=1.26->selenium) (2.8)\n",
      "Requirement already satisfied: certifi; extra == \"secure\" in /usr/lib/python3/dist-packages (from urllib3[secure]~=1.26->selenium) (2019.11.28)\n",
      "Requirement already satisfied: pyOpenSSL>=0.14; extra == \"secure\" in /home/minhnv/.local/lib/python3.8/site-packages (from urllib3[secure]~=1.26->selenium) (21.0.0)\n",
      "Requirement already satisfied: cryptography>=1.3.4; extra == \"secure\" in /usr/lib/python3/dist-packages (from urllib3[secure]~=1.26->selenium) (2.8)\n",
      "Requirement already satisfied: outcome in /home/minhnv/.local/lib/python3.8/site-packages (from trio~=0.17->selenium) (1.1.0)\n",
      "Requirement already satisfied: sortedcontainers in /home/minhnv/.local/lib/python3.8/site-packages (from trio~=0.17->selenium) (2.4.0)\n",
      "Requirement already satisfied: attrs>=19.2.0 in /home/minhnv/.local/lib/python3.8/site-packages (from trio~=0.17->selenium) (21.2.0)\n",
      "Requirement already satisfied: sniffio in /home/minhnv/.local/lib/python3.8/site-packages (from trio~=0.17->selenium) (1.2.0)\n",
      "Requirement already satisfied: async-generator>=1.9 in /home/minhnv/.local/lib/python3.8/site-packages (from trio~=0.17->selenium) (1.10)\n",
      "Requirement already satisfied: wsproto>=0.14 in /home/minhnv/.local/lib/python3.8/site-packages (from trio-websocket~=0.9->selenium) (1.0.0)\n",
      "Requirement already satisfied: six>=1.5.2 in /home/minhnv/.local/lib/python3.8/site-packages (from pyOpenSSL>=0.14; extra == \"secure\"->urllib3[secure]~=1.26->selenium) (1.16.0)\n",
      "Requirement already satisfied: h11<1,>=0.9.0 in /home/minhnv/.local/lib/python3.8/site-packages (from wsproto>=0.14->trio-websocket~=0.9->selenium) (0.12.0)\n"
     ]
    }
   ],
   "source": [
    "!sudo apt install chromium-chromedriver\n",
    "!cp /usr/lib/chromium-browser/chromedriver /usr/bin\n",
    "!pip install selenium"
   ]
  },
  {
   "cell_type": "code",
   "execution_count": 4,
   "metadata": {},
   "outputs": [
    {
     "name": "stderr",
     "output_type": "stream",
     "text": [
      "\n",
      "\n",
      "====== WebDriver manager ======\n",
      "Current google-chrome version is 99.0.4844\n",
      "Get LATEST chromedriver version for 99.0.4844 google-chrome\n",
      "Driver [/home/minhnv/.wdm/drivers/chromedriver/linux64/99.0.4844.51/chromedriver] found in cache\n",
      "/tmp/ipykernel_45905/1578985804.py:5: DeprecationWarning: executable_path has been deprecated, please pass in a Service object\n",
      "  driver = webdriver.Chrome(ChromeDriverManager().install())\n"
     ]
    }
   ],
   "source": [
    "from selenium import webdriver\n",
    "from webdriver_manager.chrome import ChromeDriverManager\n",
    "import json\n",
    "\n",
    "driver = webdriver.Chrome(ChromeDriverManager().install())\n",
    "\n"
   ]
  },
  {
   "cell_type": "code",
   "execution_count": 5,
   "metadata": {},
   "outputs": [],
   "source": [
    "driver.get(\"https://trustkeys.exchange/staking\")\n",
    "\n",
    "with open('session.txt') as f:\n",
    "    session = f.read()\n",
    "    script_session = \"window.localStorage.setItem('session',`{0}`);\".format(session)\n",
    "    driver.execute_script(script_session)\n",
    "\n"
   ]
  },
  {
   "cell_type": "code",
   "execution_count": 8,
   "metadata": {},
   "outputs": [],
   "source": [
    "driver.refresh()\n",
    "driver.get(\"https://trustkeys.exchange/staking\")\n",
    "# print(driver.page_source)"
   ]
  },
  {
   "cell_type": "code",
   "execution_count": 34,
   "metadata": {},
   "outputs": [],
   "source": [
    "## click vào staking\n",
    "from selenium.webdriver.common.by import By\n",
    "element = driver.find_element(by=By.XPATH,value=\"//button/span[text()='Stake ngay']\")\n",
    "element.click()\n",
    "time.sleep(1)"
   ]
  },
  {
   "cell_type": "code",
   "execution_count": 35,
   "metadata": {},
   "outputs": [
    {
     "name": "stdout",
     "output_type": "stream",
     "text": [
      "Giá trị nhập phải là số\n",
      "Giá trị nhập phải là số\n",
      "không có lỗi\n",
      "không có lỗi\n"
     ]
    }
   ],
   "source": [
    "## verify input\n",
    "import time\n",
    "from selenium.webdriver.common.keys import Keys\n",
    "\n",
    "driver2 = driver\n",
    "input = driver.find_element(by=By.XPATH,value=\"//input[@id='control-ref_deposit_amount']\")\n",
    "input.send_keys(\"06/24/2017\")\n",
    "time.sleep(1)\n",
    "err = driver2.find_element(by=By.XPATH,value=\"//div[@class='ant-form-item-explain-error']\")\n",
    "try:\n",
    "    print(err.get_attribute('innerHTML'))\n",
    "except:\n",
    "    print(\"không có lỗi\")\n",
    "\n",
    "\n",
    "input.send_keys(Keys.CONTROL, 'a')\n",
    "input.send_keys(\"abc\")\n",
    "time.sleep(1)\n",
    "err = driver2.find_element(by=By.XPATH,value=\"//div[@class='ant-form-item-explain-error']\")\n",
    "try:\n",
    "    print(err.get_attribute('innerHTML'))\n",
    "except:\n",
    "    print(\"không có lỗi\")\n",
    "\n",
    "\n",
    "input.send_keys(Keys.CONTROL, 'a')\n",
    "input.send_keys(\"200\")\n",
    "time.sleep(1)\n",
    "err = driver2.find_element(by=By.XPATH,value=\"//div[@class='ant-form-item-explain-error']\")\n",
    "try:\n",
    "    print(err.get_attribute('innerHTML'))\n",
    "except:\n",
    "    print(\"không có lỗi\")\n",
    "\n",
    "\n",
    "input.send_keys(Keys.CONTROL, 'a')\n",
    "input.send_keys(\"10000\")\n",
    "time.sleep(1)\n",
    "err = driver2.find_element(by=By.XPATH,value=\"//div[@class='ant-form-item-explain-error']\")\n",
    "try:\n",
    "    print(err.get_attribute('innerHTML'))\n",
    "except:\n",
    "    print(\"không có lỗi\")"
   ]
  }
 ],
 "metadata": {
  "interpreter": {
   "hash": "916dbcbb3f70747c44a77c7bcd40155683ae19c65e1c03b4aa3499c5328201f1"
  },
  "kernelspec": {
   "display_name": "Python 3.8.10 64-bit",
   "language": "python",
   "name": "python3"
  },
  "language_info": {
   "codemirror_mode": {
    "name": "ipython",
    "version": 3
   },
   "file_extension": ".py",
   "mimetype": "text/x-python",
   "name": "python",
   "nbconvert_exporter": "python",
   "pygments_lexer": "ipython3",
   "version": "3.8.10"
  },
  "orig_nbformat": 4
 },
 "nbformat": 4,
 "nbformat_minor": 2
}
