{
 "cells": [
  {
   "cell_type": "code",
   "execution_count": 7,
   "source": [
    "from nis import cat\n",
    "from pickle import TRUE\n",
    "import time\n",
    "import unittest\n",
    "from selenium import webdriver\n",
    "from webdriver_manager.chrome import ChromeDriverManager\n",
    "from selenium.webdriver.common.by import By\n",
    "import json\n",
    "\n",
    "class SimpleTest(unittest.TestCase):\n",
    "    domain = \"https://dev.api.crypto.mobilelab.vn/staking\"\n",
    "    showStakeInfoBtnEl = \"(//button[@type='button'])[2]\"\n",
    "    searchInputEl = \"//input[@type='text']\"\n",
    "    emptyImgEl = \"//div[@class='ant-empty-image']\"\n",
    "\n",
    "    def setUp(self):\n",
    "        print('setUp')\n",
    "        self.driver = webdriver.Chrome(ChromeDriverManager().install())\n",
    "        self.driver.get(self.domain)\n",
    "\n",
    "        with open('session.txt') as f:\n",
    "            session = f.read()\n",
    "            script_session = \"window.localStorage.setItem('session',`{0}`);\".format(session)\n",
    "            self.driver.execute_script(script_session)\n",
    "        self.driver.refresh()\n",
    "        self.driver.get(self.domain)\n",
    "\n",
    "    def setUpClass():\n",
    "        print('setUpClass')\n",
    "\n",
    "    def tearDown(self):\n",
    "        print('tearDown')\n",
    "\n",
    "    def tearDownClass():\n",
    "        print('tearDownClass')\n",
    "\n",
    "    # def run():\n",
    "    #     print('run')\n",
    "        \n",
    "    def skipTest():\n",
    "        print('skipTest')\n",
    "\n",
    "    # def shortDescription():\n",
    "    #     return 'Test staking'\n",
    "\n",
    "    def debug():\n",
    "        return 'debug'\n",
    "\n",
    "    def testStaking(self):\n",
    "        print('testStaking')\n",
    "        ## click vào staking\n",
    "        try:\n",
    "            time.sleep(2)\n",
    "            element = self.driver.find_element(by=By.XPATH,value=self.searchInputEl)\n",
    "            element.send_keys(\"snsd/1233/@32!/ADA\")\n",
    "\n",
    "            time.sleep(2)\n",
    "            emptyEl = self.driver.find_element(by=By.XPATH, value=self.emptyImgEl)\n",
    "            \n",
    "            # testcase is empty\n",
    "            self.assertEqual(emptyEl.is_displayed(), True, \"Failed size is not empty\")\n",
    "\n",
    "            # testcase is failed\n",
    "            self.assertEqual(emptyEl.is_displayed(), False, \"Is empty\")\n",
    "\n",
    "        except Exception as inst:\n",
    "            # sleep 5s to retry\n",
    "            print(inst)\n",
    "            # element = self.driver.find_element(by=By.XPATH,value=self.showStakeInfoBtnEl)\n",
    "            # element.click()\n",
    "\n",
    "unittest.main(argv=['first-arg-is-ignored'], exit=False)"
   ],
   "outputs": [
    {
     "output_type": "stream",
     "name": "stderr",
     "text": [
      "\n",
      "\n",
      "====== WebDriver manager ======\n",
      "Current google-chrome version is 99.0.4844\n",
      "Get LATEST chromedriver version for 99.0.4844 google-chrome\n"
     ]
    },
    {
     "output_type": "stream",
     "name": "stdout",
     "text": [
      "setUpClass\n"
     ]
    },
    {
     "output_type": "stream",
     "name": "stderr",
     "text": [
      "Driver [/Users/jeff/.wdm/drivers/chromedriver/mac64_m1/99.0.4844.51/chromedriver] found in cache\n"
     ]
    },
    {
     "output_type": "stream",
     "name": "stdout",
     "text": [
      "testStaking\n"
     ]
    },
    {
     "output_type": "stream",
     "name": "stderr",
     "text": [
      "E"
     ]
    },
    {
     "output_type": "stream",
     "name": "stdout",
     "text": [
      "True != False : Is empty\n",
      "tearDownClass\n"
     ]
    },
    {
     "output_type": "stream",
     "name": "stderr",
     "text": [
      "\n",
      "======================================================================\n",
      "ERROR: testStaking (__main__.SimpleTest)\n",
      "----------------------------------------------------------------------\n",
      "TypeError: tearDown() takes 0 positional arguments but 1 was given\n",
      "\n",
      "----------------------------------------------------------------------\n",
      "Ran 1 test in 9.037s\n",
      "\n",
      "FAILED (errors=1)\n"
     ]
    },
    {
     "output_type": "execute_result",
     "data": {
      "text/plain": [
       "<unittest.main.TestProgram at 0x1058efb20>"
      ]
     },
     "metadata": {},
     "execution_count": 7
    }
   ],
   "metadata": {}
  },
  {
   "cell_type": "code",
   "execution_count": null,
   "source": [],
   "outputs": [],
   "metadata": {}
  }
 ],
 "metadata": {
  "orig_nbformat": 4,
  "language_info": {
   "name": "python",
   "version": "3.9.7",
   "mimetype": "text/x-python",
   "codemirror_mode": {
    "name": "ipython",
    "version": 3
   },
   "pygments_lexer": "ipython3",
   "nbconvert_exporter": "python",
   "file_extension": ".py"
  },
  "kernelspec": {
   "name": "python3",
   "display_name": "Python 3.9.7 64-bit"
  },
  "interpreter": {
   "hash": "b0fa6594d8f4cbf19f97940f81e996739fb7646882a419484c72d19e05852a7e"
  }
 },
 "nbformat": 4,
 "nbformat_minor": 2
}