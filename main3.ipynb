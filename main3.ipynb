{
 "cells": [
  {
   "cell_type": "code",
   "execution_count": 2,
   "source": [
    "from asyncio import subprocess\n",
    "import asyncio\n",
    "from nis import cat\n",
    "import os\n",
    "from pickle import TRUE\n",
    "import time\n",
    "import unittest\n",
    "from selenium import webdriver\n",
    "from webdriver_manager.chrome import ChromeDriverManager\n",
    "from selenium.webdriver.common.by import By\n",
    "import json\n",
    "from AppKit import NSPasteboard, NSStringPboardType\n",
    "\n",
    "\n",
    "def getElement(driver, xpath):\n",
    "    try:\n",
    "        return driver.find_element(by=By.XPATH,value=xpath)\n",
    "    except:\n",
    "        return None\n",
    "\n",
    "def handleClick(driver, xpath):\n",
    "    try:\n",
    "        driver.find_element(by=By.XPATH,value=xpath).click()\n",
    "    except:\n",
    "        return None\n",
    "\n",
    "class GameGuild(unittest.TestCase):\n",
    "    domain = \"https://dev.nft.mobilelab.vn\"\n",
    "    # domainCollection = \"https://dev.nft.mobilelab.vn/collection/383\"\n",
    "    domainCollection = \"https://dev.nft.mobilelab.vn/collection/554\"\n",
    "\n",
    "    def setUp(self):\n",
    "        print('setUp')\n",
    "        # with open('session.txt') as f:\n",
    "        #     session = f.read()\n",
    "        #     script_session = \"window.localStorage.setItem('session',`{0}`);\".format(session)\n",
    "        #     self.driver.execute_script(script_session)\n",
    "        # self.driver.refresh()\n",
    "\n",
    "    def setUpClass():\n",
    "        print('setUpClass')\n",
    "\n",
    "    def tearDown(self):\n",
    "        print('tearDown')\n",
    "\n",
    "    def tearDownClass():\n",
    "        print('tearDownClass')\n",
    "\n",
    "    # def run():\n",
    "    #     print('run')\n",
    "    \n",
    "    # def skipTest():\n",
    "    #     print('skipTest')\n",
    "\n",
    "    # # def shortDescription():\n",
    "    # #     return 'Test staking'\n",
    "\n",
    "    # def debug():\n",
    "    #     return 'debug'\n",
    "\n",
    "if __name__ == '__main__':\n",
    "    unittest.main(argv=['first-arg-is-ignored'], exit=False)\n"
   ],
   "outputs": [
    {
     "output_type": "stream",
     "name": "stderr",
     "text": [
      "\n",
      "----------------------------------------------------------------------\n",
      "Ran 0 tests in 0.000s\n",
      "\n",
      "OK\n"
     ]
    }
   ],
   "metadata": {}
  },
  {
   "cell_type": "code",
   "execution_count": null,
   "source": [],
   "outputs": [],
   "metadata": {}
  }
 ],
 "metadata": {
  "orig_nbformat": 4,
  "language_info": {
   "name": "python",
   "version": "3.10.4",
   "mimetype": "text/x-python",
   "codemirror_mode": {
    "name": "ipython",
    "version": 3
   },
   "pygments_lexer": "ipython3",
   "nbconvert_exporter": "python",
   "file_extension": ".py"
  },
  "kernelspec": {
   "name": "python3",
   "display_name": "Python 3.10.4 64-bit"
  },
  "interpreter": {
   "hash": "aee8b7b246df8f9039afb4144a1f6fd8d2ca17a180786b69acc140d282b71a49"
  }
 },
 "nbformat": 4,
 "nbformat_minor": 2
}